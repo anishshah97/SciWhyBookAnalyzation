{
 "cells": [
  {
   "cell_type": "code",
   "execution_count": 1,
   "metadata": {
    "collapsed": true
   },
   "outputs": [],
   "source": [
    "%matplotlib inline\n",
    "import seaborn as sns\n",
    "import matplotlib.pyplot as plt\n",
    "import numpy as np\n",
    "import pandas as pd\n",
    "from sklearn.feature_extraction.text import CountVectorizer\n",
    "import operator\n",
    "import re\n",
    "import nltk\n",
    "from PIL import Image\n",
    "from os import path\n",
    "import random\n",
    "from wordcloud import WordCloud, STOPWORDS\n",
    "import csv\n",
    "from itertools import izip\n",
    "import os\n",
    "import glob"
   ]
  },
  {
   "cell_type": "code",
   "execution_count": 2,
   "metadata": {
    "collapsed": false
   },
   "outputs": [],
   "source": [
    "def getBooks():\n",
    "    return glob.glob(\"*.txt\")"
   ]
  },
  {
   "cell_type": "code",
   "execution_count": 3,
   "metadata": {
    "collapsed": false
   },
   "outputs": [],
   "source": [
    "#Make it so all the returned text is also lowercase\n",
    "def getWords(text):\n",
    "    return re.compile('\\w+').findall(text)"
   ]
  },
  {
   "cell_type": "code",
   "execution_count": 4,
   "metadata": {
    "collapsed": false
   },
   "outputs": [],
   "source": [
    "def bookCounter(bookName):\n",
    "    data = []\n",
    "    words = []\n",
    "    with open(bookName, 'r') as f:\n",
    "        data = f.readlines()\n",
    "\n",
    "    for line in data:\n",
    "        word_hold = getWords(line)\n",
    "        words.extend(word_hold)\n",
    "\n",
    "    fdist = nltk.FreqDist()\n",
    "    for word in words:\n",
    "        fdist[word] += 1\n",
    "    \n",
    "    with open(\"holder.csv\", \"wb\") as writerf:\n",
    "        writer = csv.writer(writerf)\n",
    "        for the_word in fdist.most_common():\n",
    "            writer.writerow(the_word)\n",
    "    \n",
    "    a = izip(*csv.reader(open(\"holder.csv\", \"rb\")))\n",
    "    csv.writer(open(bookName + \".csv\", \"wb\")).writerows(a)\n",
    "    os.remove(\"holder.csv\")"
   ]
  },
  {
   "cell_type": "code",
   "execution_count": 5,
   "metadata": {
    "collapsed": false
   },
   "outputs": [],
   "source": [
    "def WordCloudMaker(bookName):    \n",
    "    text = open(bookName).read()\n",
    "    wc = WordCloud().generate(text)\n",
    "    default_colors = wc.to_array()\n",
    "    plt.imshow(default_colors, interpolation=\"bilinear\")\n",
    "    plt.axis(\"off\")\n",
    "    plt.title(bookName)\n",
    "    plt.show()"
   ]
  },
  {
   "cell_type": "code",
   "execution_count": 6,
   "metadata": {
    "collapsed": false
   },
   "outputs": [],
   "source": [
    "def CSVMaker(inputs):  \n",
    "    fieldnames = []\n",
    "    for filename in inputs:\n",
    "        with open(filename + \".csv\", \"rb\") as f_in:\n",
    "            reader = csv.reader(f_in)\n",
    "            headers = next(reader)\n",
    "            for h in headers:\n",
    "                if h not in fieldnames:\n",
    "                    fieldnames.append(h)\n",
    "\n",
    "    with open(\"TotalWordList.csv\", \"wb\") as f_out:\n",
    "        writer = csv.DictWriter(f_out, fieldnames=fieldnames, restval = 0)\n",
    "        fieldnameString = str(fieldnames)\n",
    "        #fieldNameString = re.sub(r'\\W+', '', fieldnameString) need regex to retain comma and letters only\n",
    "        f_out.write(fieldnameString + \"\\n\") \n",
    "        for filename in inputs:\n",
    "            with open(filename + \".csv\", \"rb\") as f_in:\n",
    "                reader = csv.DictReader(f_in)\n",
    "                for line in reader:\n",
    "                    writer.writerow(line)"
   ]
  },
  {
   "cell_type": "code",
   "execution_count": 15,
   "metadata": {
    "collapsed": false
   },
   "outputs": [],
   "source": [
    "inputs = getBooks()\n",
    "for bookname in inputs:\n",
    "    bookCounter(bookname)\n",
    "    #WordCloudMaker(bookname)\n",
    "CSVMaker(inputs)"
   ]
  },
  {
   "cell_type": "code",
   "execution_count": null,
   "metadata": {
    "collapsed": true
   },
   "outputs": [],
   "source": []
  }
 ],
 "metadata": {
  "anaconda-cloud": {},
  "kernelspec": {
   "display_name": "Python [default]",
   "language": "python",
   "name": "python2"
  },
  "language_info": {
   "codemirror_mode": {
    "name": "ipython",
    "version": 2
   },
   "file_extension": ".py",
   "mimetype": "text/x-python",
   "name": "python",
   "nbconvert_exporter": "python",
   "pygments_lexer": "ipython2",
   "version": "2.7.12"
  }
 },
 "nbformat": 4,
 "nbformat_minor": 1
}
